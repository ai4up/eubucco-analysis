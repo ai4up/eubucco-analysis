{
 "cells": [
  {
   "cell_type": "code",
   "execution_count": 18,
   "metadata": {},
   "outputs": [],
   "source": [
    "from variables import countries_msft,countries_eubucco"
   ]
  },
  {
   "cell_type": "code",
   "execution_count": 2,
   "metadata": {},
   "outputs": [],
   "source": [
    "import pandas as pd"
   ]
  },
  {
   "cell_type": "code",
   "execution_count": 19,
   "metadata": {},
   "outputs": [],
   "source": [
    "out_msft = {country:{} for country in countries_msft}\n",
    "out_eubucco = {country:{} for country in countries_eubucco}"
   ]
  },
  {
   "cell_type": "code",
   "execution_count": 21,
   "metadata": {},
   "outputs": [
    {
     "name": "stderr",
     "output_type": "stream",
     "text": [
      "/tmp/ipykernel_194690/1466649161.py:3: DtypeWarning: Columns (60,61) have mixed types. Specify dtype option on import or set low_memory=False.\n",
      "  df_msft = pd.read_csv(f'../overviews/overview-msft/{country}_overview.csv')\n"
     ]
    }
   ],
   "source": [
    "for country in countries_msft:\n",
    "\n",
    "    df_msft = pd.read_csv(f'../overviews/overview-msft/{country}_overview.csv')\n",
    "\n",
    "    if country in countries_eubucco:    \n",
    "        df_eubucco = pd.read_csv(f'../overviews/overview-v0_1/{country}_overview.csv')\n",
    "        iterator = ((out_msft,df_msft),(out_eubucco,df_eubucco))\n",
    "    \n",
    "    else: iterator = ((out_msft,df_msft))\n",
    "\n",
    "    for d,df in iterator:\n",
    "        d[country]['Total Footprint Area'] = round(df.a_tot.sum())\n",
    "        d[country]['Total Footprint Number'] = round(df.bldgs_n_tot.sum())"
   ]
  },
  {
   "cell_type": "code",
   "execution_count": 23,
   "metadata": {},
   "outputs": [
    {
     "data": {
      "text/plain": [
       "{'austria': {'Total Footprint Area': 867271697,\n",
       "  'Total Footprint Number': 4135733},\n",
       " 'belgium': {'Total Footprint Area': 1096372592,\n",
       "  'Total Footprint Number': 8634500},\n",
       " 'bulgaria': {'Total Footprint Area': 145130155,\n",
       "  'Total Footprint Number': 448470},\n",
       " 'croatia': {'Total Footprint Area': 147590430,\n",
       "  'Total Footprint Number': 873080},\n",
       " 'cyprus': {'Total Footprint Area': 74417048,\n",
       "  'Total Footprint Number': 467594},\n",
       " 'czechia': {'Total Footprint Area': 673376186,\n",
       "  'Total Footprint Number': 4044659},\n",
       " 'denmark': {'Total Footprint Area': 738533831,\n",
       "  'Total Footprint Number': 5691756},\n",
       " 'estonia': {'Total Footprint Area': 132899346,\n",
       "  'Total Footprint Number': 803218},\n",
       " 'finland': {'Total Footprint Area': 691145893,\n",
       "  'Total Footprint Number': 5370223},\n",
       " 'france': {'Total Footprint Area': 5851128662,\n",
       "  'Total Footprint Number': 47847462},\n",
       " 'germany': {'Total Footprint Area': 6108343563,\n",
       "  'Total Footprint Number': 43644887},\n",
       " 'greece': {'Total Footprint Area': 187420816,\n",
       "  'Total Footprint Number': 864237},\n",
       " 'hungary': {'Total Footprint Area': 337332876,\n",
       "  'Total Footprint Number': 1546359},\n",
       " 'ireland': {'Total Footprint Area': 243282004,\n",
       "  'Total Footprint Number': 1610614},\n",
       " 'italy': {'Total Footprint Area': 3668104390,\n",
       "  'Total Footprint Number': 20674153},\n",
       " 'latvia': {'Total Footprint Area': 112759248,\n",
       "  'Total Footprint Number': 513316},\n",
       " 'lithuania': {'Total Footprint Area': 290400677,\n",
       "  'Total Footprint Number': 1924431},\n",
       " 'luxembourg': {'Total Footprint Area': 43143729,\n",
       "  'Total Footprint Number': 143923},\n",
       " 'malta': {'Total Footprint Area': 32599347, 'Total Footprint Number': 142616},\n",
       " 'netherlands': {'Total Footprint Area': 1202665089,\n",
       "  'Total Footprint Number': 9692657},\n",
       " 'norway': {},\n",
       " 'poland': {'Total Footprint Area': 2099046447,\n",
       "  'Total Footprint Number': 14404767},\n",
       " 'portugal': {'Total Footprint Area': 325743275,\n",
       "  'Total Footprint Number': 1215018},\n",
       " 'romania': {'Total Footprint Area': 323929666,\n",
       "  'Total Footprint Number': 1332570},\n",
       " 'slovakia': {'Total Footprint Area': 428026555,\n",
       "  'Total Footprint Number': 3488125},\n",
       " 'slovenia': {'Total Footprint Area': 182617285,\n",
       "  'Total Footprint Number': 1162832},\n",
       " 'spain': {'Total Footprint Area': 2979509619,\n",
       "  'Total Footprint Number': 16340067},\n",
       " 'sweden': {'Total Footprint Area': 568473803,\n",
       "  'Total Footprint Number': 2532313},\n",
       " 'switzerland': {'Total Footprint Area': 506395304,\n",
       "  'Total Footprint Number': 2641571},\n",
       " 'uk': {}}"
      ]
     },
     "execution_count": 23,
     "metadata": {},
     "output_type": "execute_result"
    }
   ],
   "source": [
    "out_eubucco"
   ]
  },
  {
   "cell_type": "code",
   "execution_count": 16,
   "metadata": {},
   "outputs": [],
   "source": [
    "for country in countries_msft:\n",
    "    # Sample markdown content\n",
    "    markdown_content = f\"\"\"\n",
    "# {country.capitalize()}\n",
    "## Available data EUBUCCO / MSFT\n",
    "\n",
    "| Dimension    | EUBUCCO v0.1 | MSFT | Ratio |\n",
    "| -------- | ------- | ------- | ------- |\n",
    "|   |     |  | |\n",
    "\n",
    "\n",
    "Total Footprint Area: {out[country]['Total Footprint Area']:,}\n",
    "Total Footprint Number: {out[country]['Total Footprint Number']:,}\n",
    "\n",
    "## Statistics\n",
    "## Maps\n",
    "## Outliers\n",
    "## Known issues\n",
    "\"\"\"\n",
    "\n",
    "    # Write the content to a markdown file\n",
    "    with open(f\"../factsheets/{country}_analysis.md\", \"w\") as file:\n",
    "        file.write(markdown_content)\n"
   ]
  },
  {
   "cell_type": "code",
   "execution_count": null,
   "metadata": {},
   "outputs": [],
   "source": []
  }
 ],
 "metadata": {
  "kernelspec": {
   "display_name": "mlup22",
   "language": "python",
   "name": "python3"
  },
  "language_info": {
   "codemirror_mode": {
    "name": "ipython",
    "version": 3
   },
   "file_extension": ".py",
   "mimetype": "text/x-python",
   "name": "python",
   "nbconvert_exporter": "python",
   "pygments_lexer": "ipython3",
   "version": "3.10.4"
  }
 },
 "nbformat": 4,
 "nbformat_minor": 2
}
