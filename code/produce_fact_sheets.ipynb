{
 "cells": [
  {
   "cell_type": "code",
   "execution_count": 4,
   "metadata": {},
   "outputs": [],
   "source": [
    "import glob\n",
    "import pandas as pd"
   ]
  },
  {
   "cell_type": "code",
   "execution_count": 10,
   "metadata": {},
   "outputs": [],
   "source": [
    "countries_eubucco = ['austria','belgium','bulgaria','croatia','cyprus','czechia','denmark','estonia','finland','france','germany','greece','hungary','ireland','italy','latvia','lithuania','luxembourg','malta','netherlands','norway','poland','portugal','romania','slovakia','slovenia','spain','sweden','switzerland','uk']\n",
    "countries_msft = ['austria','belgium','bulgaria','croatia','cyprus','czechia','denmark','estonia','finland','france','germany','greece','hungary','ireland','italy','latvia','lithuania','luxembourg','malta','netherlands','poland','portugal','romania','slovakia','slovenia','spain','sweden','switzerland']"
   ]
  },
  {
   "cell_type": "code",
   "execution_count": 15,
   "metadata": {},
   "outputs": [],
   "source": [
    "for country in countries_msft:\n",
    "    # Sample markdown content\n",
    "    markdown_content = f\"\"\"\n",
    "# {country.capitalize()}\n",
    "## Available data EUBUCCO / MSFT\n",
    "## Statistics\n",
    "## Maps\n",
    "## Outliers\n",
    "## Known issues\n",
    "\"\"\"\n",
    "\n",
    "    # Write the content to a markdown file\n",
    "    with open(f\"./fact_sheets/{country}_analysis.md\", \"w\") as file:\n",
    "        file.write(markdown_content)\n"
   ]
  },
  {
   "cell_type": "code",
   "execution_count": null,
   "metadata": {},
   "outputs": [],
   "source": []
  },
  {
   "cell_type": "code",
   "execution_count": null,
   "metadata": {},
   "outputs": [],
   "source": []
  },
  {
   "cell_type": "code",
   "execution_count": null,
   "metadata": {},
   "outputs": [],
   "source": []
  },
  {
   "cell_type": "code",
   "execution_count": 5,
   "metadata": {},
   "outputs": [
    {
     "name": "stderr",
     "output_type": "stream",
     "text": [
      "/tmp/ipykernel_185683/596645298.py:4: DtypeWarning: Columns (60,61) have mixed types. Specify dtype option on import or set low_memory=False.\n",
      "  tmp = pd.read_csv(file)\n"
     ]
    }
   ],
   "source": [
    "df_msft = pd.DataFrame()\n",
    "df_msft['country'] = []\n",
    "for file in glob.glob('/home/nmd/Cluster/stats/2-db-set-up/overview/overview-msft/*'):\n",
    "    tmp = pd.read_csv(file)\n",
    "    tmp['country'] = file.split('/')[-1].split('_')[0]\n",
    "    df_msft = pd.concat([df_msft,tmp])"
   ]
  }
 ],
 "metadata": {
  "kernelspec": {
   "display_name": "mlup22",
   "language": "python",
   "name": "python3"
  },
  "language_info": {
   "codemirror_mode": {
    "name": "ipython",
    "version": 3
   },
   "file_extension": ".py",
   "mimetype": "text/x-python",
   "name": "python",
   "nbconvert_exporter": "python",
   "pygments_lexer": "ipython3",
   "version": "3.10.4"
  }
 },
 "nbformat": 4,
 "nbformat_minor": 2
}
